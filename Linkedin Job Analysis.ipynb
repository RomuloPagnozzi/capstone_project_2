{
 "cells": [
  {
   "cell_type": "code",
   "execution_count": 1,
   "id": "4cd7bf58",
   "metadata": {},
   "outputs": [],
   "source": [
    "import pandas as pd\n",
    "from unidecode import unidecode\n",
    "pd.set_option(\"display.max_colwidth\", 120)"
   ]
  },
  {
   "cell_type": "code",
   "execution_count": 2,
   "id": "e4fda26e",
   "metadata": {},
   "outputs": [],
   "source": [
    "df = pd.read_csv('Linkedin_data_scientist_br.csv')"
   ]
  },
  {
   "cell_type": "code",
   "execution_count": 3,
   "id": "8ed456d3",
   "metadata": {},
   "outputs": [],
   "source": [
    "def clean_df(df):\n",
    "    df.drop_duplicates(subset='job_url', keep='first', inplace=True)\n",
    "    df.dropna(subset='job_url', inplace=True)\n",
    "    cols = df.columns.to_list()\n",
    "    unwanted_cols = ('job_url', 'company_link', 'date')\n",
    "    cols = [e for e in cols if e not in unwanted_cols]\n",
    "    for c in cols:\n",
    "        df[c] = df[c].str.rstrip().str.lstrip().str.lower()\n",
    "    df = df.replace(r'\\s+|\\\\n', ' ', regex=True)\n",
    "    df.job_url = df.job_url.str.split('?', 1)\n",
    "    for i, row in df.iterrows():\n",
    "        row.job_url = row.job_url[0]\n",
    "    df.drop_duplicates(subset='job_url', keep='first', inplace=True)\n",
    "    return df"
   ]
  },
  {
   "cell_type": "code",
   "execution_count": 4,
   "id": "fb0c335a",
   "metadata": {},
   "outputs": [],
   "source": [
    "def remove_words(word_list, bad_words):\n",
    "    filtered = []\n",
    "\n",
    "    for i in word_list:\n",
    "        bad = False\n",
    "        for j in bad_words:\n",
    "            if j in i:\n",
    "                bad = True;\n",
    "        if not bad:\n",
    "            filtered.append(i)\n",
    "    return filtered"
   ]
  },
  {
   "cell_type": "code",
   "execution_count": 5,
   "id": "88a1d7d6",
   "metadata": {},
   "outputs": [],
   "source": [
    "def unique_words_in_list(text):\n",
    "    text = pd.Series(text)\n",
    "    text = text.str.lower().str.split()\n",
    "    wordset = []\n",
    "    for sublist in text:\n",
    "            for word in sublist:\n",
    "                wordset.append(word)\n",
    "    wordset = pd.Series(wordset)\n",
    "    wordset = list(pd.unique(wordset))\n",
    "    return wordset"
   ]
  },
  {
   "cell_type": "code",
   "execution_count": 6,
   "id": "812ffe30",
   "metadata": {},
   "outputs": [],
   "source": [
    "def clean_words(words):\n",
    "    clean = []\n",
    "    include = []\n",
    "    # remove numbers\n",
    "    # remove non letter characters\n",
    "    return clean"
   ]
  },
  {
   "cell_type": "code",
   "execution_count": 7,
   "id": "6da4f265",
   "metadata": {},
   "outputs": [],
   "source": [
    "def filter_df(df, bad_words):\n",
    "    all_jobs = list(pd.unique(df.job_title.sort_values()))\n",
    "    filtered = remove_words(all_jobs, bad_words)\n",
    "    index_list = []\n",
    "    for index, row in df.iterrows():\n",
    "        if row.job_title in filtered:\n",
    "            index_list.append(index)\n",
    "    df = df[df.index.isin(index_list)]\n",
    "    df = df.reset_index(drop=True)\n",
    "    return df"
   ]
  },
  {
   "cell_type": "code",
   "execution_count": 8,
   "id": "ca5368c6",
   "metadata": {},
   "outputs": [],
   "source": [
    "df = clean_df(df)"
   ]
  },
  {
   "cell_type": "code",
   "execution_count": 9,
   "id": "646a5bbc",
   "metadata": {},
   "outputs": [],
   "source": [
    "bad_words = ('desenvolvedor', 'front', 'back', 'pessoa', 'banco', 'software', 'qa', 'test', 'go', '$', \n",
    "                  'developer', 'node', 'mulher', 'afirmativa', 'diversidade', 'dev')"
   ]
  },
  {
   "cell_type": "code",
   "execution_count": 10,
   "id": "1b9fe202",
   "metadata": {},
   "outputs": [],
   "source": [
    "df = filter_df(df, bad_words)"
   ]
  },
  {
   "cell_type": "code",
   "execution_count": 11,
   "id": "f47ce56b",
   "metadata": {},
   "outputs": [
    {
     "data": {
      "text/plain": [
       "entry level         77\n",
       "mid-senior level    76\n",
       "not applicable      72\n",
       "associate            7\n",
       "internship           6\n",
       "full-time            4\n",
       "executive            1\n",
       "director             1\n",
       "Name: seniority, dtype: int64"
      ]
     },
     "execution_count": 11,
     "metadata": {},
     "output_type": "execute_result"
    }
   ],
   "source": [
    "df.seniority.value_counts()"
   ]
  },
  {
   "cell_type": "code",
   "execution_count": 12,
   "id": "05eb8ed3",
   "metadata": {},
   "outputs": [],
   "source": [
    "senior = ['lead', 'senior', 'sênior', 'sr', 'especialista', 'head', 'principal', 'coordenação']"
   ]
  },
  {
   "cell_type": "code",
   "execution_count": 13,
   "id": "f1a890aa",
   "metadata": {},
   "outputs": [],
   "source": [
    "jr_title = df[df.seniority == 'entry level'].job_title.to_list()"
   ]
  },
  {
   "cell_type": "code",
   "execution_count": 14,
   "id": "e739f530",
   "metadata": {},
   "outputs": [
    {
     "data": {
      "text/plain": [
       "['analista',\n",
       " 'data',\n",
       " 'scientist',\n",
       " 'junior',\n",
       " 'i',\n",
       " '-',\n",
       " '4852',\n",
       " 'id',\n",
       " 'cientista',\n",
       " 'de',\n",
       " 'dados',\n",
       " 'júnior',\n",
       " 'specialist',\n",
       " 'machine',\n",
       " 'learning',\n",
       " 'engineer',\n",
       " '[remote]',\n",
       " '|',\n",
       " 'bees',\n",
       " 'brasil',\n",
       " 'pleno',\n",
       " '(deep',\n",
       " 'e',\n",
       " 'visão',\n",
       " 'computacional)',\n",
       " 'project',\n",
       " 'lead',\n",
       " 'science',\n",
       " 'staff',\n",
       " 'estágio',\n",
       " 'em',\n",
       " 'ciência',\n",
       " 'dubai,',\n",
       " 'uae',\n",
       " 'english',\n",
       " 'speaker',\n",
       " '(hybrid)',\n",
       " 'applied',\n",
       " 'content',\n",
       " 'intelligence',\n",
       " 'advisory',\n",
       " 'especialista',\n",
       " 'engenheiro',\n",
       " 'pesquisa',\n",
       " 'automação',\n",
       " '(data',\n",
       " 'scientist)',\n",
       " 'consultant',\n",
       " 'lmk',\n",
       " '(la)',\n",
       " 'advisor',\n",
       " '(brain-computer',\n",
       " 'interface',\n",
       " 'team)',\n",
       " 'pl',\n",
       " 'lead,',\n",
       " 'creator',\n",
       " 'marketing',\n",
       " '[22009]',\n",
       " 'corporativo',\n",
       " 'ne',\n",
       " 'programador',\n",
       " 'python',\n",
       " 'remote',\n",
       " 'latin',\n",
       " 'america',\n",
       " 'jr.',\n",
       " 'mlops',\n",
       " 'formados',\n",
       " 'engenheiro(a)',\n",
       " 'jr',\n",
       " 'remoto',\n",
       " 'sre',\n",
       " 'programador(a)',\n",
       " 'jobs']"
      ]
     },
     "execution_count": 14,
     "metadata": {},
     "output_type": "execute_result"
    }
   ],
   "source": [
    "test = unique_words_in_list(jr_title)\n",
    "test"
   ]
  },
  {
   "cell_type": "code",
   "execution_count": 15,
   "id": "8effb1c3",
   "metadata": {},
   "outputs": [
    {
     "data": {
      "text/plain": [
       "['analista',\n",
       " 'data',\n",
       " 'scientist',\n",
       " 'junior',\n",
       " 'i',\n",
       " '-',\n",
       " '4852',\n",
       " 'id',\n",
       " 'cientista',\n",
       " 'de',\n",
       " 'dados',\n",
       " 'junior',\n",
       " 'specialist',\n",
       " 'machine',\n",
       " 'learning',\n",
       " 'engineer',\n",
       " '[remote]',\n",
       " '|',\n",
       " 'bees',\n",
       " 'brasil',\n",
       " 'pleno',\n",
       " '(deep',\n",
       " 'e',\n",
       " 'visao',\n",
       " 'computacional)',\n",
       " 'project',\n",
       " 'lead',\n",
       " 'science',\n",
       " 'staff',\n",
       " 'estagio',\n",
       " 'em',\n",
       " 'ciencia',\n",
       " 'dubai,',\n",
       " 'uae',\n",
       " 'english',\n",
       " 'speaker',\n",
       " '(hybrid)',\n",
       " 'applied',\n",
       " 'content',\n",
       " 'intelligence',\n",
       " 'advisory',\n",
       " 'especialista',\n",
       " 'engenheiro',\n",
       " 'pesquisa',\n",
       " 'automacao',\n",
       " '(data',\n",
       " 'scientist)',\n",
       " 'consultant',\n",
       " 'lmk',\n",
       " '(la)',\n",
       " 'advisor',\n",
       " '(brain-computer',\n",
       " 'interface',\n",
       " 'team)',\n",
       " 'pl',\n",
       " 'lead,',\n",
       " 'creator',\n",
       " 'marketing',\n",
       " '[22009]',\n",
       " 'corporativo',\n",
       " 'ne',\n",
       " 'programador',\n",
       " 'python',\n",
       " 'remote',\n",
       " 'latin',\n",
       " 'america',\n",
       " 'jr.',\n",
       " 'mlops',\n",
       " 'formados',\n",
       " 'engenheiro(a)',\n",
       " 'jr',\n",
       " 'remoto',\n",
       " 'sre',\n",
       " 'programador(a)',\n",
       " 'jobs']"
      ]
     },
     "execution_count": 15,
     "metadata": {},
     "output_type": "execute_result"
    }
   ],
   "source": [
    "decoded = []\n",
    "for word in test:\n",
    "    decoded.append(unidecode(word))\n",
    "decoded"
   ]
  },
  {
   "cell_type": "code",
   "execution_count": null,
   "id": "b4c6bb66",
   "metadata": {},
   "outputs": [],
   "source": []
  },
  {
   "cell_type": "code",
   "execution_count": null,
   "id": "b75523a2",
   "metadata": {},
   "outputs": [],
   "source": []
  },
  {
   "cell_type": "code",
   "execution_count": null,
   "id": "3d92e1af",
   "metadata": {},
   "outputs": [],
   "source": []
  }
 ],
 "metadata": {
  "kernelspec": {
   "display_name": "Python 3 (ipykernel)",
   "language": "python",
   "name": "python3"
  },
  "language_info": {
   "codemirror_mode": {
    "name": "ipython",
    "version": 3
   },
   "file_extension": ".py",
   "mimetype": "text/x-python",
   "name": "python",
   "nbconvert_exporter": "python",
   "pygments_lexer": "ipython3",
   "version": "3.9.13"
  }
 },
 "nbformat": 4,
 "nbformat_minor": 5
}
